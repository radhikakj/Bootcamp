<!DOCTYPE html>

<html  dir="ltr" lang="en" xml:lang="en">
<head>
    <title>Paatshala: Log in to the site</title>
    <link rel="shortcut icon" href="https://retail.ictkerala.org/pluginfile.php/1/theme_edumy/favicon/1681968162/favicon-32x32.png" />
    <meta name="apple-itunes-app" content="app-id=633359593, app-argument=https://retail.ictkerala.org/login/index.php"/><link rel="manifest" href="https://retail.ictkerala.org/admin/tool/mobile/mobile.webmanifest.php" /><meta http-equiv="Content-Type" content="text/html; charset=utf-8" />
<meta name="keywords" content="moodle, Paatshala: Log in to the site" />
<link rel="stylesheet" type="text/css" href="https://retail.ictkerala.org/theme/yui_combo.php?rollup/3.17.2/yui-moodlesimple-min.css" /><script id="firstthemesheet" type="text/css">/** Required in order to fix style inclusion problems in IE with YUI **/</script><link rel="stylesheet" type="text/css" href="https://retail.ictkerala.org/theme/styles.php/edumy/1681968162_1/all" />
<script>
//<![CDATA[
var M = {}; M.yui = {};
M.pageloadstarttime = new Date();
M.cfg = {"wwwroot":"https:\/\/retail.ictkerala.org","sesskey":"3TBcNG2Brt","sessiontimeout":"7200","themerev":"1681968162","slasharguments":1,"theme":"edumy","iconsystemmodule":"core\/icon_system_fontawesome","jsrev":"1681968162","admin":"admin","svgicons":true,"usertimezone":"Asia\/Kolkata","contextid":1,"langrev":1681968162,"templaterev":"1681968162"};var yui1ConfigFn = function(me) {if(/-skin|reset|fonts|grids|base/.test(me.name)){me.type='css';me.path=me.path.replace(/\.js/,'.css');me.path=me.path.replace(/\/yui2-skin/,'/assets/skins/sam/yui2-skin')}};
var yui2ConfigFn = function(me) {var parts=me.name.replace(/^moodle-/,'').split('-'),component=parts.shift(),module=parts[0],min='-min';if(/-(skin|core)$/.test(me.name)){parts.pop();me.type='css';min=''}
if(module){var filename=parts.join('-');me.path=component+'/'+module+'/'+filename+min+'.'+me.type}else{me.path=component+'/'+component+'.'+me.type}};
YUI_config = {"debug":false,"base":"https:\/\/retail.ictkerala.org\/lib\/yuilib\/3.17.2\/","comboBase":"https:\/\/retail.ictkerala.org\/theme\/yui_combo.php?","combine":true,"filter":null,"insertBefore":"firstthemesheet","groups":{"yui2":{"base":"https:\/\/retail.ictkerala.org\/lib\/yuilib\/2in3\/2.9.0\/build\/","comboBase":"https:\/\/retail.ictkerala.org\/theme\/yui_combo.php?","combine":true,"ext":false,"root":"2in3\/2.9.0\/build\/","patterns":{"yui2-":{"group":"yui2","configFn":yui1ConfigFn}}},"moodle":{"name":"moodle","base":"https:\/\/retail.ictkerala.org\/theme\/yui_combo.php?m\/1681968162\/","combine":true,"comboBase":"https:\/\/retail.ictkerala.org\/theme\/yui_combo.php?","ext":false,"root":"m\/1681968162\/","patterns":{"moodle-":{"group":"moodle","configFn":yui2ConfigFn}},"filter":null,"modules":{"moodle-core-event":{"requires":["event-custom"]},"moodle-core-notification":{"requires":["moodle-core-notification-dialogue","moodle-core-notification-alert","moodle-core-notification-confirm","moodle-core-notification-exception","moodle-core-notification-ajaxexception"]},"moodle-core-notification-dialogue":{"requires":["base","node","panel","escape","event-key","dd-plugin","moodle-core-widget-focusafterclose","moodle-core-lockscroll"]},"moodle-core-notification-alert":{"requires":["moodle-core-notification-dialogue"]},"moodle-core-notification-confirm":{"requires":["moodle-core-notification-dialogue"]},"moodle-core-notification-exception":{"requires":["moodle-core-notification-dialogue"]},"moodle-core-notification-ajaxexception":{"requires":["moodle-core-notification-dialogue"]},"moodle-core-maintenancemodetimer":{"requires":["base","node"]},"moodle-core-formchangechecker":{"requires":["base","event-focus","moodle-core-event"]},"moodle-core-blocks":{"requires":["base","node","io","dom","dd","dd-scroll","moodle-core-dragdrop","moodle-core-notification"]},"moodle-core-tooltip":{"requires":["base","node","io-base","moodle-core-notification-dialogue","json-parse","widget-position","widget-position-align","event-outside","cache-base"]},"moodle-core-languninstallconfirm":{"requires":["base","node","moodle-core-notification-confirm","moodle-core-notification-alert"]},"moodle-core-dragdrop":{"requires":["base","node","io","dom","dd","event-key","event-focus","moodle-core-notification"]},"moodle-core-lockscroll":{"requires":["plugin","base-build"]},"moodle-core-popuphelp":{"requires":["moodle-core-tooltip"]},"moodle-core-actionmenu":{"requires":["base","event","node-event-simulate"]},"moodle-core-handlebars":{"condition":{"trigger":"handlebars","when":"after"}},"moodle-core-chooserdialogue":{"requires":["base","panel","moodle-core-notification"]},"moodle-core_availability-form":{"requires":["base","node","event","event-delegate","panel","moodle-core-notification-dialogue","json"]},"moodle-backup-confirmcancel":{"requires":["node","node-event-simulate","moodle-core-notification-confirm"]},"moodle-backup-backupselectall":{"requires":["node","event","node-event-simulate","anim"]},"moodle-course-categoryexpander":{"requires":["node","event-key"]},"moodle-course-modchooser":{"requires":["moodle-core-chooserdialogue","moodle-course-coursebase"]},"moodle-course-management":{"requires":["base","node","io-base","moodle-core-notification-exception","json-parse","dd-constrain","dd-proxy","dd-drop","dd-delegate","node-event-delegate"]},"moodle-course-dragdrop":{"requires":["base","node","io","dom","dd","dd-scroll","moodle-core-dragdrop","moodle-core-notification","moodle-course-coursebase","moodle-course-util"]},"moodle-course-util":{"requires":["node"],"use":["moodle-course-util-base"],"submodules":{"moodle-course-util-base":{},"moodle-course-util-section":{"requires":["node","moodle-course-util-base"]},"moodle-course-util-cm":{"requires":["node","moodle-course-util-base"]}}},"moodle-course-formatchooser":{"requires":["base","node","node-event-simulate"]},"moodle-form-shortforms":{"requires":["node","base","selector-css3","moodle-core-event"]},"moodle-form-dateselector":{"requires":["base","node","overlay","calendar"]},"moodle-form-passwordunmask":{"requires":[]},"moodle-question-searchform":{"requires":["base","node"]},"moodle-question-preview":{"requires":["base","dom","event-delegate","event-key","core_question_engine"]},"moodle-question-chooser":{"requires":["moodle-core-chooserdialogue"]},"moodle-availability_completion-form":{"requires":["base","node","event","moodle-core_availability-form"]},"moodle-availability_date-form":{"requires":["base","node","event","io","moodle-core_availability-form"]},"moodle-availability_grade-form":{"requires":["base","node","event","moodle-core_availability-form"]},"moodle-availability_group-form":{"requires":["base","node","event","moodle-core_availability-form"]},"moodle-availability_grouping-form":{"requires":["base","node","event","moodle-core_availability-form"]},"moodle-availability_profile-form":{"requires":["base","node","event","moodle-core_availability-form"]},"moodle-mod_assign-history":{"requires":["node","transition"]},"moodle-mod_attendance-groupfilter":{"requires":["base","node"]},"moodle-mod_customcert-rearrange":{"requires":["dd-delegate","dd-drag"]},"moodle-mod_quiz-questionchooser":{"requires":["moodle-core-chooserdialogue","moodle-mod_quiz-util","querystring-parse"]},"moodle-mod_quiz-dragdrop":{"requires":["base","node","io","dom","dd","dd-scroll","moodle-core-dragdrop","moodle-core-notification","moodle-mod_quiz-quizbase","moodle-mod_quiz-util-base","moodle-mod_quiz-util-page","moodle-mod_quiz-util-slot","moodle-course-util"]},"moodle-mod_quiz-util":{"requires":["node","moodle-core-actionmenu"],"use":["moodle-mod_quiz-util-base"],"submodules":{"moodle-mod_quiz-util-base":{},"moodle-mod_quiz-util-slot":{"requires":["node","moodle-mod_quiz-util-base"]},"moodle-mod_quiz-util-page":{"requires":["node","moodle-mod_quiz-util-base"]}}},"moodle-mod_quiz-modform":{"requires":["base","node","event"]},"moodle-mod_quiz-toolboxes":{"requires":["base","node","event","event-key","io","moodle-mod_quiz-quizbase","moodle-mod_quiz-util-slot","moodle-core-notification-ajaxexception"]},"moodle-mod_quiz-quizbase":{"requires":["base","node"]},"moodle-mod_quiz-autosave":{"requires":["base","node","event","event-valuechange","node-event-delegate","io-form"]},"moodle-mod_scheduler-studentlist":{"requires":["base","node","event","io"]},"moodle-mod_scheduler-saveseen":{"requires":["base","node","event"]},"moodle-mod_scheduler-delselected":{"requires":["base","node","event"]},"moodle-message_airnotifier-toolboxes":{"requires":["base","node","io"]},"moodle-block_xp-notification":{"requires":["base","node","handlebars","button-plugin","moodle-core-notification-dialogue"]},"moodle-block_xp-rulepicker":{"requires":["base","node","handlebars","moodle-core-notification-dialogue"]},"moodle-block_xp-filters":{"requires":["base","node","moodle-core-dragdrop","moodle-core-notification-confirm","moodle-block_xp-rulepicker"]},"moodle-filter_glossary-autolinker":{"requires":["base","node","io-base","json-parse","event-delegate","overlay","moodle-core-event","moodle-core-notification-alert","moodle-core-notification-exception","moodle-core-notification-ajaxexception"]},"moodle-filter_mathjaxloader-loader":{"requires":["moodle-core-event"]},"moodle-editor_atto-editor":{"requires":["node","transition","io","overlay","escape","event","event-simulate","event-custom","node-event-html5","node-event-simulate","yui-throttle","moodle-core-notification-dialogue","moodle-core-notification-confirm","moodle-editor_atto-rangy","handlebars","timers","querystring-stringify"]},"moodle-editor_atto-plugin":{"requires":["node","base","escape","event","event-outside","handlebars","event-custom","timers","moodle-editor_atto-menu"]},"moodle-editor_atto-menu":{"requires":["moodle-core-notification-dialogue","node","event","event-custom"]},"moodle-editor_atto-rangy":{"requires":[]},"moodle-report_eventlist-eventfilter":{"requires":["base","event","node","node-event-delegate","datatable","autocomplete","autocomplete-filters"]},"moodle-report_loglive-fetchlogs":{"requires":["base","event","node","io","node-event-delegate"]},"moodle-report_overviewstats-charts":{"requires":["base","node","charts","charts-legend"]},"moodle-gradereport_grader-gradereporttable":{"requires":["base","node","event","handlebars","overlay","event-hover"]},"moodle-gradereport_history-userselector":{"requires":["escape","event-delegate","event-key","handlebars","io-base","json-parse","moodle-core-notification-dialogue"]},"moodle-tool_capability-search":{"requires":["base","node"]},"moodle-tool_lp-dragdrop-reorder":{"requires":["moodle-core-dragdrop"]},"moodle-tool_monitor-dropdown":{"requires":["base","event","node"]},"moodle-assignfeedback_editpdf-editor":{"requires":["base","event","node","io","graphics","json","event-move","event-resize","transition","querystring-stringify-simple","moodle-core-notification-dialog","moodle-core-notification-alert","moodle-core-notification-warning","moodle-core-notification-exception","moodle-core-notification-ajaxexception"]},"moodle-atto_accessibilitychecker-button":{"requires":["color-base","moodle-editor_atto-plugin"]},"moodle-atto_accessibilityhelper-button":{"requires":["moodle-editor_atto-plugin"]},"moodle-atto_align-button":{"requires":["moodle-editor_atto-plugin"]},"moodle-atto_bold-button":{"requires":["moodle-editor_atto-plugin"]},"moodle-atto_charmap-button":{"requires":["moodle-editor_atto-plugin"]},"moodle-atto_clear-button":{"requires":["moodle-editor_atto-plugin"]},"moodle-atto_collapse-button":{"requires":["moodle-editor_atto-plugin"]},"moodle-atto_emojipicker-button":{"requires":["moodle-editor_atto-plugin"]},"moodle-atto_emoticon-button":{"requires":["moodle-editor_atto-plugin"]},"moodle-atto_equation-button":{"requires":["moodle-editor_atto-plugin","moodle-core-event","io","event-valuechange","tabview","array-extras"]},"moodle-atto_h5p-button":{"requires":["moodle-editor_atto-plugin"]},"moodle-atto_html-button":{"requires":["promise","moodle-editor_atto-plugin","moodle-atto_html-beautify","moodle-atto_html-codemirror","event-valuechange"]},"moodle-atto_html-beautify":{},"moodle-atto_html-codemirror":{"requires":["moodle-atto_html-codemirror-skin"]},"moodle-atto_image-button":{"requires":["moodle-editor_atto-plugin"]},"moodle-atto_indent-button":{"requires":["moodle-editor_atto-plugin"]},"moodle-atto_italic-button":{"requires":["moodle-editor_atto-plugin"]},"moodle-atto_link-button":{"requires":["moodle-editor_atto-plugin"]},"moodle-atto_managefiles-usedfiles":{"requires":["node","escape"]},"moodle-atto_managefiles-button":{"requires":["moodle-editor_atto-plugin"]},"moodle-atto_media-button":{"requires":["moodle-editor_atto-plugin","moodle-form-shortforms"]},"moodle-atto_noautolink-button":{"requires":["moodle-editor_atto-plugin"]},"moodle-atto_orderedlist-button":{"requires":["moodle-editor_atto-plugin"]},"moodle-atto_recordrtc-button":{"requires":["moodle-editor_atto-plugin","moodle-atto_recordrtc-recording"]},"moodle-atto_recordrtc-recording":{"requires":["moodle-atto_recordrtc-button"]},"moodle-atto_rtl-button":{"requires":["moodle-editor_atto-plugin"]},"moodle-atto_strike-button":{"requires":["moodle-editor_atto-plugin"]},"moodle-atto_subscript-button":{"requires":["moodle-editor_atto-plugin"]},"moodle-atto_superscript-button":{"requires":["moodle-editor_atto-plugin"]},"moodle-atto_table-button":{"requires":["moodle-editor_atto-plugin","moodle-editor_atto-menu","event","event-valuechange"]},"moodle-atto_title-button":{"requires":["moodle-editor_atto-plugin"]},"moodle-atto_underline-button":{"requires":["moodle-editor_atto-plugin"]},"moodle-atto_undo-button":{"requires":["moodle-editor_atto-plugin"]},"moodle-atto_unorderedlist-button":{"requires":["moodle-editor_atto-plugin"]}}},"gallery":{"name":"gallery","base":"https:\/\/retail.ictkerala.org\/lib\/yuilib\/gallery\/","combine":true,"comboBase":"https:\/\/retail.ictkerala.org\/theme\/yui_combo.php?","ext":false,"root":"gallery\/1681968162\/","patterns":{"gallery-":{"group":"gallery"}}}},"modules":{"core_filepicker":{"name":"core_filepicker","fullpath":"https:\/\/retail.ictkerala.org\/lib\/javascript.php\/1681968162\/repository\/filepicker.js","requires":["base","node","node-event-simulate","json","async-queue","io-base","io-upload-iframe","io-form","yui2-treeview","panel","cookie","datatable","datatable-sort","resize-plugin","dd-plugin","escape","moodle-core_filepicker","moodle-core-notification-dialogue"]},"core_comment":{"name":"core_comment","fullpath":"https:\/\/retail.ictkerala.org\/lib\/javascript.php\/1681968162\/comment\/comment.js","requires":["base","io-base","node","json","yui2-animation","overlay","escape"]},"mathjax":{"name":"mathjax","fullpath":"https:\/\/cdn.jsdelivr.net\/npm\/mathjax@2.7.8\/MathJax.js?delayStartupUntil=configured"}}};
M.yui.loader = {modules: {}};

//]]>
</script>

<meta name="robots" content="noindex" />
    <meta name="viewport" content="width=device-width, initial-scale=1.0">
    <style>.search_overlay{
height :1%;
}</style>
</head>
<body  id="page-login-index" class="format-site  path-login ie ie11 dir-ltr lang-en yui-skin-sam yui3-skin-sam retail-ictkerala-org pagelayout-login course-1 context-1 notloggedin ccn_no_hero ccn_header_style_1 ccn_footer_style_6 ccn_blog_style_1 ccn_course_list_style_1 ccn_breadcrumb_style_0 role-standard ccn-not-front ccn_header_applies-all  ccn_dashboard_header_sticky  ccn_dashboard_header_gradient   ccn_course_single_v1  ccn_context_frontend">
  <div class="wrapper">
        <header class="ccnHeader1 header-nav menu_style_home_one navbar-scrolltofixed stricky main-menu">
          <div class="container-fluid">
            <!-- Ace Responsive Menu -->
            <nav>
              <!-- Menu Toggle btn-->
              <div class="menu-toggle">
                <img class="nav_logo_img img-fluid" src="https://retail.ictkerala.org/pluginfile.php/1/theme_edumy/headerlogo1/1681968162/Logo.png" alt="Paatshala">
                <button type="button" id="menu-btn">
                  <span class="icon-bar"></span>
                  <span class="icon-bar"></span>
                  <span class="icon-bar"></span>
                </button>
              </div>
                <a href="https://retail.ictkerala.org" class="navbar_brand float-left dn-smd">
                  <img class="logo1 img-fluid" src="https://retail.ictkerala.org/pluginfile.php/1/theme_edumy/headerlogo1/1681968162/Logo.png" alt="Paatshala"  style="width:160px;max-width:none!important;height:80px;max-height:none!important;" >
                  <img class="logo2 img-fluid" src="https://retail.ictkerala.org/pluginfile.php/1/theme_edumy/headerlogo2/1681968162/Logo.png" alt="Paatshala"  style="width:160px;max-width:none!important;height:80px;max-height:none!important;" >
                  
                </a>
              <ul id="respMenu" class="ace-responsive-menu" data-menu-style="horizontal">
                <li class=""><a class="" href="http://retail.ictkerala.org/?redirect=0">Home</a></li><li class=""><a class="" href="http://retail.ictkerala.org/course">Courses</a></li><li class=""><a class="" href="http://retail.ictkerala.org/grade/report/overview/index.php">Grades</a></li>
              </ul>
              <ul class="sign_up_btn pull-right dn-smd mt20">
                  <li class="list-inline-item list_s">
                    <a href="#" class="btn flaticon-user" data-toggle="modal" data-target="#exampleModalCenter"> <span class="dn-lg">Login/Register</span></a>
                  </li>
                  <li class="list-inline-item list_s">
                    <div class="search_overlay">
                      <a id="search-button-listener" class="mk-search-trigger mk-fullscreen-trigger" href="#">
                        <span id="search-button"><i class="flaticon-magnifying-glass"></i></span>
                      </a>
                    </div>
                  </li>
              </ul><!-- Button trigger modal -->
            </nav>
          </div>
        </header>
        <div id="page" class="stylehome1 h0">
          <div class="mobile-menu">
            <div class="header stylehome1">
                <div class="main_logo_home2">
                  <a class="mobileBrand" href="https://retail.ictkerala.org">
                        <img class="nav_logo_img img-fluid float-left mt20" src="https://retail.ictkerala.org/pluginfile.php/1/theme_edumy/headerlogo_mobile/1681968162/Logo.png" alt="Paatshala"  style="width:160px;max-width:none!important;height:80px;max-height:none!important;" >
                    
                  </a>
                </div>
              <ul class="menu_bar_home2">
                  <li class="list-inline-item">
                    <div class="search_overlay">
                      <a id="search-button-listener2" class="mk-search-trigger mk-fullscreen-trigger" href="#">
                        <div id="search-button2"><i class="flaticon-magnifying-glass"></i></div>
                      </a>
                    </div>
                  </li>
                <li class="list-inline-item ccn_mob_menu_trigger "><a href="#menu"><span></span></a></li>
              </ul>
            </div>
          </div><!-- /.mobile-menu -->
          <nav id="menu" class="stylehome1">
            <ul>
              <li class=""><a class="" href="http://retail.ictkerala.org/?redirect=0">Home</a></li><li class=""><a class="" href="http://retail.ictkerala.org/course">Courses</a></li><li class=""><a class="" href="http://retail.ictkerala.org/grade/report/overview/index.php">Grades</a></li>
                <li><a href="https://retail.ictkerala.org/login/index.php"><span class="ccn-flaticon-user"></span> Login</a></li>
                 <li><a href="https://retail.ictkerala.org/login/signup.php"><span class="ccn-flaticon-login"></span> Sign up!</a></li>
                <li class="ccn_mob_menu_iconed"><a href="tel:0471-2700811/12/13"><i class="flaticon-phone-call"></i> 0471-2700811/12/13</a></li>
                <li class="ccn_mob_menu_iconed"><a href="mailto:info@ictkerala.org"><i class="flaticon-paper-plane"></i> info@ictkerala.org</a></li>
                <li class="ccn_mob_menu_iconed"><a href="https://www.ictkerala.org" class=""><i class="flaticon-megaphone"></i> Learn from us</a></li>
            </ul>
          </nav>
        </div>
      <div class="sign_up_modal modal fade" id="exampleModalCenter" tabindex="-1" role="dialog" aria-hidden="true">
        <div class="modal-dialog modal-dialog-centered" role="document">
          <div class="modal-content">
            <div class="modal-header">
              <button type="button" class="close" data-dismiss="modal" aria-label="Close"><span aria-hidden="true">&times;</span></button>
            </div>
            <div class="tab-content" id="myTabContent">
              <div class="tab-pane fade show active" id="home" role="tabpanel" aria-labelledby="home">
                <div class="login_form">
                  <div class="heading">
                    <h3 class="text-center">Login to your account</h3>
                      <p class="text-center">Don't have an account? <a class="text-thm" href="https://retail.ictkerala.org/login/signup.php">Sign up!</a></p>
                  </div>
                  
<form class="loginform" id="login" method="post" action="https://retail.ictkerala.org/login/index.php"><div class="form-group"><input type="text" name="username" placeholder="Username" id="login_username"  class="form-control" value="" autocomplete="username"/></div><div class="form-group"><input type="password" name="password" id="login_password" placeholder="Password"  class="form-control" value="" autocomplete="current-password"/></div>
                              <div class="form-group custom-control custom-checkbox">
                                <input type="checkbox" class="custom-control-input" name="rememberusername" id="rememberusername">
                                <label class="custom-control-label" for="rememberusername">Remember username</label>
                                <a class="tdu btn-fpswd float-right" href="https://retail.ictkerala.org/login/forgot_password.php">Lost password?</a>
                              </div><button type="submit" class="btn btn-log btn-block btn-thm2">Log in</button><input type="hidden" name="logintoken" value="PFOK9MoIShLbCGKAGfCBwg0NxdJ9xKtq" /></form>

                </div>
              </div>
            </div>
          </div>
        </div>
      </div>
      <div class="search_overlay">
        <div class="mk-fullscreen-search-overlay" id="mk-search-overlay">
          <a href="#" class="mk-fullscreen-close" id="mk-fullscreen-close-button"><i class="fa fa-times"></i></a>
          <div id="mk-fullscreen-search-wrapper">
            <div id="ccn_mk-fullscreen-search-wrapper">
              Global searching is not enabled.<form class="ccn-mk-fullscreen-searchform" action="https://retail.ictkerala.org/search/index.php"><fieldset><input id="searchform_search" name="q" class="ccn-mk-fullscreen-search-input" placeholder="Search courses..." type="text" size="15" /><i class="flaticon-magnifying-glass fullscreen-search-icon"><input value="" type="submit" id="searchform_button"></i></fieldset></form>
            </div>
          </div>
        </div>
      </div>
        <section class="inner_page_breadcrumb ccn_breadcrumb_default  ccn-clip-l  ccn-caps-capitalize  ccn-breadcrumb-title-v  ccn-breadcrumb-trail-v ">
          <div class="container">
            <div class="row">
              <div class="col-xl-12 text-center">
                <div class="breadcrumb_content">
                    <h4 class="breadcrumb_title">Paatshala</h4>
                    <ol class="breadcrumb">
      <li class="breadcrumb-item">
        <a href="https://retail.ictkerala.org/"  >Home</a>
      </li>
      <li class="breadcrumb-item active ">Log in to the site</li>
</ol>
                </div>
              </div>
            </div>
          </div>
        </section>
    <div>
    <a class="sr-only sr-only-focusable" href="#maincontent">Skip to main content</a>
</div><script src="https://retail.ictkerala.org/lib/javascript.php/1681968162/lib/babel-polyfill/polyfill.min.js"></script>
<script src="https://retail.ictkerala.org/lib/javascript.php/1681968162/lib/mdn-polyfills/polyfill.js"></script>
<script src="https://retail.ictkerala.org/theme/yui_combo.php?rollup/3.17.2/yui-moodlesimple-min.js"></script><script src="https://retail.ictkerala.org/theme/jquery.php/core/jquery-3.4.1.min.js"></script>
<script src="https://retail.ictkerala.org/lib/javascript.php/1681968162/lib/javascript-static.js"></script>
<script src="https://retail.ictkerala.org/theme/javascript.php/edumy/1681968162/head"></script>
<script>
//<![CDATA[
document.body.className += ' jsenabled';
//]]>
</script>


    <section class="our-log bgc-fa">
      <div class="container">
        <div class="row">
          <div class="col-sm-12 col-lg-6 offset-lg-3">
            <div class="login_form inner_page">
              <span id="maincontent"></span><div class="my-1 my-sm-5"></div>

                <div class="sr-only">
                    <a href="https://retail.ictkerala.org/login/signup.php">Skip to create new account</a>
                </div>


                    <form action="https://retail.ictkerala.org/login/index.php" method="post" id="login">

                      <div class="heading">
                        <h3 class="text-center">Login to your account</h3>
                      </div>


                        <input id="anchor" type="hidden" name="anchor" value="">
                        <script>document.getElementById('anchor').value = location.hash;</script>
                        <input type="hidden" name="logintoken" value="PFOK9MoIShLbCGKAGfCBwg0NxdJ9xKtq">
                        <div class="form-group">
                            <label for="username" class="sr-only">
                                    Username / email
                            </label>
                            <input type="text" name="username" id="username"
                                class="form-control"
                                value=""
                                placeholder="Username / email"
                                autocomplete="username">
                        </div>
                        <div class="form-group">
                            <label for="password" class="sr-only">Password</label>
                            <input type="password" name="password" id="password" value=""
                                class="form-control"
                                placeholder="Password"
                                autocomplete="current-password">
                        </div>
                        <div class="form-group custom-control custom-checkbox">
                                <input class="custom-control-input" type="checkbox" name="rememberusername1" id="rememberusername1" value="1"  />
                                <label class="custom-control-label" for="rememberusername1">Remember username</label>

                        <a class="tdu btn-fpswd float-right" href="https://retail.ictkerala.org/login/forgot_password.php">Forgot Password?</a>
                      </div>

                        <button type="submit" class="btn btn-log btn-block btn-thm2" id="loginbtn">Log in</button>
                    </form>





                    <div class="mt-3">
                        Cookies must be enabled in your browser
                        <a class="btn btn-link p-0" role="button"
    data-container="body" data-toggle="popover"
    data-placement="right" data-content="&lt;div class=&quot;no-overflow&quot;&gt;&lt;p&gt;Two cookies are used on this site:&lt;/p&gt;

&lt;p&gt;The essential one is the session cookie, usually called MoodleSession. You must allow this cookie in your browser to provide continuity and to remain logged in when browsing the site. When you log out or close the browser, this cookie is destroyed (in your browser and on the server).&lt;/p&gt;

&lt;p&gt;The other cookie is purely for convenience, usually called MOODLEID or similar. It just remembers your username in the browser. This means that when you return to this site, the username field on the login page is already filled in for you. It is safe to refuse this cookie - you will just have to retype your username each time you log in.&lt;/p&gt;
&lt;/div&gt; "
    data-html="true" tabindex="0" data-trigger="focus">
  <i class="icon fa fa-question-circle text-info fa-fw "  title="Help with Cookies must be enabled in your browser" aria-label="Help with Cookies must be enabled in your browser"></i>
</a>
                    </div>








<div class="divide">
								<span class="lf_divider">Or</span>
								<hr>
							</div>

<div class="ccn_first-time">
<div class="">
<div class="">
    <div class="">
        <div class="">
            <h3>Is this your first time here?</h3>
        </div>
        <div>
        For full access to this site, you first need to create an account.
            <form class="mt-3" action="https://retail.ictkerala.org/login/signup.php" method="get" id="signup">
                <button type="submit" class="btn btn-secondary">Create new account</button>
            </form>
        </div>
    </div>
</div>
</div>
</div>
            </div>
          </div>
        </div>
      </div>
    </section>
        <section class="footer_one  ">
          <div class="container">
            <div class="row">
                <div class="col-sm-6 col-md-4 col-md-3 col-lg-3">
                  <div class="footer_contact_widget  ">
                    <h4>HEAD OFFICE</h4>
                    ICT Academy of Kerala
L-9, Thejaswini Building
Technopark campus
Karyavattom-695581
                  </div>
                </div>
                <div class="col-sm-6 col-md-4 col-md-3 col-lg-2">
                  <div class="footer_company_widget  ">
                    <h4>CENTRAL REGION</h4>
                    Ground Floor,Rajamally Building,
Infopark, Koratty,
Thrissur, Kerala, India.
Phone: +91-481-2731050
                  </div>
                </div>
                <div class="col-sm-6 col-md-4 col-md-3 col-lg-2">
                  <div class="footer_program_widget  ">
                    <h4>NORTH REGION</h4>
                    2nd Floor, 
Ul Cyberpark Building,
Nellikode PO, 
Kozhikode,
Phone: +91-495-2431432
                  </div>
                </div>
                <div class="col-sm-6 col-md-4 col-md-3 col-lg-2">
                  <div class="footer_support_widget  ">
                    <h4>Support</h4>
                    For more details Contact us @ info@ictkerala.org
OR reach us at 0471-2700811/12/13
                  </div>
                </div>
                <div class="col-sm-6 col-md-4 col-md-3 col-lg-3">
                  <div class="footer_apps_widget  ">
                    <h4>About Us</h4>
                    ICT Academy of Kerala is a Social Enterprise created in a Public Private Partnership model (PPP) for imparting ICT skills to the youths of Kerala and improve their employability opportunities in the Industry. The Company is supported by Govt. of India , partnered by Govt. of Kerala and the IT industry.
                  </div>
                </div>
            </div>
          </div>
        </section>
        <section class="footer_middle_area p0  ">
          <div class="container">
            <div class="row">
                <div class="col-sm-4 col-md-1 mr25 pb15 pt15">
                  <div class="logo-widget    ">
                     <img class="img-fluid" src="https://retail.ictkerala.org/pluginfile.php/1/theme_edumy/footerlogo1/1681968162/logo_ICT-Edited.png" alt="Paatshala"  style="width:100px;max-width:none!important;height:100px;max-height:none!important;" >
                    
                  </div>
                </div>
              <div class="col-sm-12 col-md-4 col-lg-3 col-xl-3 pb15 pt15">
                <div class="footer_social_widget mt15">
                  <ul>
                      <li class="list-inline-item"><a  target="_self"  href="www.facebook.com/ictkerala"><i class="fa fa-facebook"></i></a></li>
                      <li class="list-inline-item"><a  target="_self"  href="#"><i class="fa fa-twitter"></i></a></li>
                      <li class="list-inline-item"><a  target="_self"  href="#"><i class="fa fa-instagram"></i></a></li>
                      <li class="list-inline-item"><a  target="_self"  href="#"><i class="fa fa-pinterest"></i></a></li>
                      <li class="list-inline-item"><a  target="_self"  href="#"><i class="fa fa-dribbble"></i></a></li>
                      <li class="list-inline-item"><a  target="_self"  href="#"><i class="fa fa-google"></i></a></li>
                  </ul>
                </div>
              </div>
            </div>
          </div>
        </section>
          <section class="footer_bottom_area pt25 pb25  ">
            <div class="container">
              <div class="row">
                <div class="col-lg-6 offset-lg-3">
                  <div class="copyright-widget text-center">
                    <p>Copyright © 2020 ICT Academy of Kerala. All Rights Reserved.</p>
                  </div>
                </div>
              </div>
            </div>
          </section>
    
      <a class="scrollToHome" href="#"><i class="flaticon-up-arrow-1"></i></a>
    
    
    
    <script>
//<![CDATA[
var require = {
    baseUrl : 'https://retail.ictkerala.org/lib/requirejs.php/1681968162/',
    // We only support AMD modules with an explicit define() statement.
    enforceDefine: true,
    skipDataMain: true,
    waitSeconds : 0,

    paths: {
        jquery: 'https://retail.ictkerala.org/lib/javascript.php/1681968162/lib/jquery/jquery-3.4.1.min',
        jqueryui: 'https://retail.ictkerala.org/lib/javascript.php/1681968162/lib/jquery/ui-1.12.1/jquery-ui.min',
        jqueryprivate: 'https://retail.ictkerala.org/lib/javascript.php/1681968162/lib/requirejs/jquery-private'
    },

    // Custom jquery config map.
    map: {
      // '*' means all modules will get 'jqueryprivate'
      // for their 'jquery' dependency.
      '*': { jquery: 'jqueryprivate' },
      // Stub module for 'process'. This is a workaround for a bug in MathJax (see MDL-60458).
      '*': { process: 'core/first' },

      // 'jquery-private' wants the real jQuery module
      // though. If this line was not here, there would
      // be an unresolvable cyclic dependency.
      jqueryprivate: { jquery: 'jquery' }
    }
};

//]]>
</script>
<script src="https://retail.ictkerala.org/lib/javascript.php/1681968162/lib/requirejs/require.min.js"></script>
<script>
//<![CDATA[
M.util.js_pending("core/first");require(['core/first'], function() {
;
require(["media_videojs/loader"], function(loader) {
    loader.setUp(function(videojs) {
        videojs.options.flash.swf = "https://retail.ictkerala.org/media/player/videojs/videojs/video-js.swf";
videojs.addLanguage('en', {
  "Audio Player": "Audio Player",
  "Video Player": "Video Player",
  "Play": "Play",
  "Pause": "Pause",
  "Replay": "Replay",
  "Current Time": "Current Time",
  "Duration": "Duration",
  "Remaining Time": "Remaining Time",
  "Stream Type": "Stream Type",
  "LIVE": "LIVE",
  "Seek to live, currently behind live": "Seek to live, currently behind live",
  "Seek to live, currently playing live": "Seek to live, currently playing live",
  "Loaded": "Loaded",
  "Progress": "Progress",
  "Progress Bar": "Progress Bar",
  "progress bar timing: currentTime={1} duration={2}": "{1} of {2}",
  "Fullscreen": "Fullscreen",
  "Non-Fullscreen": "Non-Fullscreen",
  "Mute": "Mute",
  "Unmute": "Unmute",
  "Playback Rate": "Playback Rate",
  "Subtitles": "Subtitles",
  "subtitles off": "subtitles off",
  "Captions": "Captions",
  "captions off": "captions off",
  "Chapters": "Chapters",
  "Descriptions": "Descriptions",
  "descriptions off": "descriptions off",
  "Audio Track": "Audio Track",
  "Volume Level": "Volume Level",
  "You aborted the media playback": "You aborted the media playback",
  "A network error caused the media download to fail part-way.": "A network error caused the media download to fail part-way.",
  "The media could not be loaded, either because the server or network failed or because the format is not supported.": "The media could not be loaded, either because the server or network failed or because the format is not supported.",
  "The media playback was aborted due to a corruption problem or because the media used features your browser did not support.": "The media playback was aborted due to a corruption problem or because the media used features your browser did not support.",
  "No compatible source was found for this media.": "No compatible source was found for this media.",
  "The media is encrypted and we do not have the keys to decrypt it.": "The media is encrypted and we do not have the keys to decrypt it.",
  "Play Video": "Play Video",
  "Close": "Close",
  "Close Modal Dialog": "Close Modal Dialog",
  "Modal Window": "Modal Window",
  "This is a modal window": "This is a modal window",
  "This modal can be closed by pressing the Escape key or activating the close button.": "This modal can be closed by pressing the Escape key or activating the close button.",
  ", opens captions settings dialog": ", opens captions settings dialog",
  ", opens subtitles settings dialog": ", opens subtitles settings dialog",
  ", opens descriptions settings dialog": ", opens descriptions settings dialog",
  ", selected": ", selected",
  "captions settings": "captions settings",
  "subtitles settings": "subititles settings",
  "descriptions settings": "descriptions settings",
  "Text": "Text",
  "White": "White",
  "Black": "Black",
  "Red": "Red",
  "Green": "Green",
  "Blue": "Blue",
  "Yellow": "Yellow",
  "Magenta": "Magenta",
  "Cyan": "Cyan",
  "Background": "Background",
  "Window": "Window",
  "Transparent": "Transparent",
  "Semi-Transparent": "Semi-Transparent",
  "Opaque": "Opaque",
  "Font Size": "Font Size",
  "Text Edge Style": "Text Edge Style",
  "None": "None",
  "Raised": "Raised",
  "Depressed": "Depressed",
  "Uniform": "Uniform",
  "Dropshadow": "Dropshadow",
  "Font Family": "Font Family",
  "Proportional Sans-Serif": "Proportional Sans-Serif",
  "Monospace Sans-Serif": "Monospace Sans-Serif",
  "Proportional Serif": "Proportional Serif",
  "Monospace Serif": "Monospace Serif",
  "Casual": "Casual",
  "Script": "Script",
  "Small Caps": "Small Caps",
  "Reset": "Reset",
  "restore all settings to the default values": "restore all settings to the default values",
  "Done": "Done",
  "Caption Settings Dialog": "Caption Settings Dialog",
  "Beginning of dialog window. Escape will cancel and close the window.": "Beginning of dialog window. Escape will cancel and close the window.",
  "End of dialog window.": "End of dialog window.",
  "{1} is loading.": "{1} is loading."
});

    });
});;

  M.util.js_pending('theme_boost/loader');
  require(['theme_boost/loader'], function() {
  M.util.js_complete('theme_boost/loader');
  });
  M.util.js_pending('theme_boost/drawer');
  require(['theme_boost/drawer'], function(mod) {
  mod.init();
  M.util.js_complete('theme_boost/drawer');
  });
;

;
M.util.js_pending('core/notification'); require(['core/notification'], function(amd) {amd.init(1, []); M.util.js_complete('core/notification');});;
M.util.js_pending('core/log'); require(['core/log'], function(amd) {amd.setConfig({"level":"warn"}); M.util.js_complete('core/log');});;
M.util.js_pending('core/page_global'); require(['core/page_global'], function(amd) {amd.init(); M.util.js_complete('core/page_global');});M.util.js_complete("core/first");
});
//]]>
</script>
<script>
//<![CDATA[
M.str = {"moodle":{"lastmodified":"Last modified","name":"Name","error":"Error","info":"Information","yes":"Yes","no":"No","cancel":"Cancel","confirm":"Confirm","areyousure":"Are you sure?","closebuttontitle":"Close","unknownerror":"Unknown error","file":"File","url":"URL"},"repository":{"type":"Type","size":"Size","invalidjson":"Invalid JSON string","nofilesattached":"No files attached","filepicker":"File picker","logout":"Logout","nofilesavailable":"No files available","norepositoriesavailable":"Sorry, none of your current repositories can return files in the required format.","fileexistsdialogheader":"File exists","fileexistsdialog_editor":"A file with that name has already been attached to the text you are editing.","fileexistsdialog_filemanager":"A file with that name has already been attached","renameto":"Rename to \"{$a}\"","referencesexist":"There are {$a} alias\/shortcut files that use this file as their source","select":"Select"},"admin":{"confirmdeletecomments":"You are about to delete comments, are you sure?","confirmation":"Confirmation"},"debug":{"debuginfo":"Debug info","line":"Line","stacktrace":"Stack trace"},"langconfig":{"labelsep":": "}};
//]]>
</script>
<script>
//<![CDATA[
(function() {Y.use("moodle-filter_mathjaxloader-loader",function() {M.filter_mathjaxloader.configure({"mathjaxconfig":"\nMathJax.Hub.Config({\n    config: [\"Accessible.js\", \"Safe.js\"],\n    errorSettings: { message: [\"!\"] },\n    skipStartupTypeset: true,\n    messageStyle: \"none\"\n});\n","lang":"en"});
});
ccnCommentHandler(Y, "Add a Comment & Review");
ccnControl(Y, "https:\/\/retail.ictkerala.org\/theme\/edumy\/ccn\/visualize\/ccn_block\/jpeg\/large\/", "https:\/\/retail.ictkerala.org\/theme\/edumy\/ccn\/visualize\/ccn_block\/jpeg\/thumb\/", ["cocoon_about_1","cocoon_about_2","cocoon_accordion","cocoon_action_panels","cocoon_boxes","cocoon_blog_recent_slider","cocoon_faqs","cocoon_features","cocoon_parallax","cocoon_parallax_apps","cocoon_parallax_counters","cocoon_parallax_features","cocoon_parallax_testimonials","cocoon_partners","cocoon_parallax_white","cocoon_pills","cocoon_price_tables","cocoon_price_tables_dark","cocoon_services","cocoon_services_dark","cocoon_simple_counters","cocoon_hero_1","cocoon_hero_2","cocoon_hero_3","cocoon_hero_4","cocoon_hero_5","cocoon_slider_1","cocoon_slider_1_v","cocoon_slider_2","cocoon_slider_3","cocoon_slider_4","cocoon_slider_5","cocoon_slider_6","cocoon_steps","cocoon_steps_dark","cocoon_subscribe","cocoon_tablets","cocoon_tstmnls","cocoon_tstmnls_2","cocoon_contact_form","cocoon_course_categories","cocoon_course_categories_2","cocoon_course_categories_3","cocoon_course_categories_4","cocoon_course_overview","cocoon_course_instructor","cocoon_course_rating","cocoon_course_grid","cocoon_course_grid_2","cocoon_course_grid_3","cocoon_course_grid_4","cocoon_featuredcourses","cocoon_courses_slider","cocoon_more_courses","cocoon_users_slider_2","cocoon_users_slider_2_dark","cocoon_users_slider_round"]);
M.util.help_popups.setup(Y);
 M.util.js_pending('random648d57b4345fb4'); Y.on('domready', function() { M.util.js_complete("init");  M.util.js_complete('random648d57b4345fb4'); });
})();
//]]>
</script>

  </div>
  
</body>

</html>